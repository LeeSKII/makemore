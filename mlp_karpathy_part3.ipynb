{
 "cells": [
  {
   "cell_type": "code",
   "execution_count": 2,
   "metadata": {},
   "outputs": [],
   "source": [
    "import torch\n",
    "import torch.nn.functional as F"
   ]
  },
  {
   "cell_type": "code",
   "execution_count": 3,
   "metadata": {},
   "outputs": [],
   "source": [
    "with open('./names.txt','r',encoding='utf-8') as f:\n",
    "    words = f.read().splitlines()"
   ]
  },
  {
   "cell_type": "code",
   "execution_count": 4,
   "metadata": {},
   "outputs": [
    {
     "data": {
      "text/plain": [
       "32033"
      ]
     },
     "execution_count": 4,
     "metadata": {},
     "output_type": "execute_result"
    }
   ],
   "source": [
    "len(words)"
   ]
  },
  {
   "cell_type": "code",
   "execution_count": 5,
   "metadata": {},
   "outputs": [],
   "source": [
    "chars = []\n",
    "chars.append('.')\n",
    "chars = chars+sorted(list(set(''.join(words))))\n",
    "vocab_size = len(chars)"
   ]
  },
  {
   "cell_type": "code",
   "execution_count": 6,
   "metadata": {},
   "outputs": [],
   "source": [
    "# 定义两个函数用以转换字符到数字和数字到字符\n",
    "stoi = lambda x: chars.index(x)\n",
    "itos = lambda x: chars[x]"
   ]
  },
  {
   "cell_type": "code",
   "execution_count": 7,
   "metadata": {},
   "outputs": [],
   "source": [
    "block_size = 3\n",
    "X,Y = [],[]\n",
    "for w in words[:]:\n",
    "    # print(w)\n",
    "    context = [0] * block_size\n",
    "    for ch in w + '.':\n",
    "        ix = stoi(ch)\n",
    "        X.append(context)\n",
    "        Y.append(ix)\n",
    "        # print(''.join(itos(xi) for xi in context), '--->', itos(ix))\n",
    "        context = context[1:] + [ix]\n",
    "        \n",
    "X = torch.tensor(X)\n",
    "Y = torch.tensor(Y)"
   ]
  },
  {
   "cell_type": "code",
   "execution_count": 8,
   "metadata": {},
   "outputs": [
    {
     "data": {
      "text/plain": [
       "(torch.Size([228146, 3]), torch.int64, torch.Size([228146]), torch.int64)"
      ]
     },
     "execution_count": 8,
     "metadata": {},
     "output_type": "execute_result"
    }
   ],
   "source": [
    "X.shape, X.dtype, Y.shape, Y.dtype"
   ]
  },
  {
   "cell_type": "code",
   "execution_count": 9,
   "metadata": {},
   "outputs": [
    {
     "name": "stdout",
     "output_type": "stream",
     "text": [
      "torch.Size([182625, 3]) torch.Size([182625])\n",
      "torch.Size([22655, 3]) torch.Size([22655])\n",
      "torch.Size([22866, 3]) torch.Size([22866])\n"
     ]
    }
   ],
   "source": [
    "def build_dataset(words):  \n",
    "  X, Y = [], []\n",
    "  for w in words:\n",
    "\n",
    "    #print(w)\n",
    "    context = [0] * block_size\n",
    "    for ch in w + '.':\n",
    "      ix = stoi(ch)\n",
    "      X.append(context)\n",
    "      Y.append(ix)\n",
    "      #print(''.join(itos[i] for i in context), '--->', itos[ix])\n",
    "      context = context[1:] + [ix] # crop and append\n",
    "\n",
    "  X = torch.tensor(X)\n",
    "  Y = torch.tensor(Y)\n",
    "  print(X.shape, Y.shape)\n",
    "  return X, Y\n",
    "\n",
    "import random\n",
    "random.seed(42)\n",
    "random.shuffle(words)\n",
    "n1 = int(0.8*len(words))\n",
    "n2 = int(0.9*len(words))\n",
    "\n",
    "Xtr, Ytr = build_dataset(words[:n1])\n",
    "Xdev, Ydev = build_dataset(words[n1:n2])\n",
    "Xte, Yte = build_dataset(words[n2:])"
   ]
  },
  {
   "cell_type": "code",
   "execution_count": 10,
   "metadata": {},
   "outputs": [],
   "source": [
    "n_embed = 10\n",
    "input_neurons = n_embed * block_size\n",
    "n_hidden = 200\n",
    "\n",
    "g = torch.Generator().manual_seed(2147483647)\n",
    "C = torch.randn((vocab_size,n_embed),generator=g)\n",
    "# 将参数进行缩小，可以加速训练的收敛过程\n",
    "# 这里将激活前的参数层进行缩小，使得整个层的原始输出值在tanh计算的时候是落在tanh梯度较大的位置，这样使得初始学习的时候所有的神经元都可以直接参与计算\n",
    "# 注意现在这里使用的0.2是一个magic number，可以通过kaiming initialization来计算一个更符合数学规则的初始值（但是由于现代神经网络的很多优化方案（例如batch normalization），使得精确设置W的缩放规模并不那么重要了）\n",
    "# 缩放的目的是，w的随机初始化是符合标准正态分布的，x的取数也是符合标准正态分布的，但是如果w和x的矩阵乘法，那么得到的y的标准差会变大，即整个正态分布的“山峰”的体会变宽，这会导致有部分y值到了tanh的饱和区，使得梯度消失，因此需要一个缩小因子，使得y的标准差变小，这样可以使得反向传播时梯度不会消失\n",
    "# 现在使用kaiming initialization来计算一个更符合数学规则的权重初始值，使得x @ w之后的矩阵数值范围尽可能多的落在tanh函数的激活区间内，这样可以使得梯度不会消失\n",
    "w1 = torch.randn((input_neurons,n_hidden),generator=g) * (5/3)/(input_neurons**0.5) #0.2\n",
    "b1 = torch.randn(n_hidden,generator=g) * 0.01\n",
    "# 将最后一层的权重缩小，这样可以将第一次的logits，即原始输出值缩小，这样所有的值都相当于平均在0附近，取样的概率相等，初始值loss可控\n",
    "w2 = torch.randn((n_hidden,vocab_size),generator=g) * 0.01\n",
    "b2 = torch.randn(vocab_size,generator=g) * 0\n",
    "\n",
    "# 用于batch normalization的学习参数\n",
    "bngain = torch.ones((1,n_hidden))\n",
    "bnbias = torch.zeros((1,n_hidden))\n",
    "\n",
    "# 用于batch normalization的运行时参数,因为是标准正态分布数据初始化，所以均值是0，标准差是1\n",
    "bnmean_running = torch.zeros((1,n_hidden))\n",
    "bnstd_running = torch.ones((1,n_hidden))\n",
    "\n",
    "parameters = [C,w1,b1,w2,b2,bngain,bnbias]\n",
    "for p in parameters:\n",
    "    p.requires_grad = True"
   ]
  },
  {
   "cell_type": "code",
   "execution_count": 11,
   "metadata": {},
   "outputs": [
    {
     "data": {
      "text/plain": [
       "12297"
      ]
     },
     "execution_count": 11,
     "metadata": {},
     "output_type": "execute_result"
    }
   ],
   "source": [
    "sum(n.nelement() for n in parameters)"
   ]
  },
  {
   "cell_type": "code",
   "execution_count": 13,
   "metadata": {},
   "outputs": [
    {
     "name": "stdout",
     "output_type": "stream",
     "text": [
      "mean of x is -0.002289424417540431,std of x is 1.0162497758865356\n",
      "mean of y is -0.0029294616542756557,std of y is 1.008420705795288\n"
     ]
    },
    {
     "data": {
      "text/plain": [
       "(array([2.36900477e-05, 2.36899942e-05, 4.73800955e-05, 1.89519954e-04,\n",
       "        2.36900477e-04, 6.15939850e-04, 6.63321337e-04, 1.44509128e-03,\n",
       "        2.34531208e-03, 3.67195325e-03, 5.87512520e-03, 9.49969841e-03,\n",
       "        1.33848770e-02, 2.14394690e-02, 3.27396090e-02, 4.73563519e-02,\n",
       "        6.78008400e-02, 9.48074640e-02, 1.29466038e-01, 1.73789994e-01,\n",
       "        2.24178669e-01, 2.81769189e-01, 3.42178663e-01, 3.90624811e-01,\n",
       "        4.24904276e-01, 4.31703313e-01, 4.10477051e-01, 3.69706467e-01,\n",
       "        3.13513826e-01, 2.47655479e-01, 1.94755662e-01, 1.46617623e-01,\n",
       "        1.09353137e-01, 7.99301308e-02, 5.33025472e-02, 3.88279444e-02,\n",
       "        2.63669933e-02, 1.63935130e-02, 1.17502504e-02, 6.70427594e-03,\n",
       "        4.95121438e-03, 2.62959233e-03, 2.01365178e-03, 1.01867090e-03,\n",
       "        4.50110399e-04, 4.50110907e-04, 1.89519954e-04, 9.47601910e-05,\n",
       "        0.00000000e+00, 7.10701432e-05]),\n",
       " array([-5.32655859, -5.1154995 , -4.90443993, -4.69338083, -4.48232126,\n",
       "        -4.27126217, -4.0602026 , -3.84914351, -3.63808417, -3.42702484,\n",
       "        -3.21596551, -3.00490618, -2.79384685, -2.58278775, -2.37172842,\n",
       "        -2.16066909, -1.94960976, -1.73855042, -1.52749109, -1.31643188,\n",
       "        -1.10537255, -0.89431322, -0.68325394, -0.47219461, -0.26113531,\n",
       "        -0.05007601,  0.16098329,  0.3720426 ,  0.58310193,  0.7941612 ,\n",
       "         1.00522053,  1.21627986,  1.42733908,  1.63839841,  1.84945774,\n",
       "         2.06051707,  2.2715764 ,  2.48263574,  2.69369483,  2.90475416,\n",
       "         3.11581349,  3.32687283,  3.53793216,  3.74899149,  3.96005082,\n",
       "         4.17111015,  4.38216925,  4.59322882,  4.80428791,  5.01534748,\n",
       "         5.22640657]),\n",
       " <BarContainer object of 50 artists>)"
      ]
     },
     "execution_count": 13,
     "metadata": {},
     "output_type": "execute_result"
    },
    {
     "data": {
      "image/png": "[encoded data removed]",
      "text/plain": [
       "<Figure size 2000x500 with 2 Axes>"
      ]
     },
     "metadata": {},
     "output_type": "display_data"
    }
   ],
   "source": [
    "import matplotlib.pyplot as plt\n",
    "x = torch.randn(1000,10)\n",
    "# w = torch.randn(10,200)\n",
    "# 为了解决矩阵乘法后std扩大的问题，需要除以一个缩放因子，就是fan in的平方根，这里的10就是fan in\n",
    "w = torch.randn(10,200) / 10**0.5\n",
    "y =  x @ w\n",
    "print(f'mean of x is {x.mean()},std of x is {x.std()}')\n",
    "print(f'mean of y is {y.mean()},std of y is {y.std()}')\n",
    "plt.figure(figsize=(20,5))\n",
    "plt.subplot(121)\n",
    "plt.hist(x.view(-1),bins=50,density=True)\n",
    "plt.subplot(122)\n",
    "plt.hist(y.view(-1),bins=50,density=True)\n",
    "# 可以看到经过矩阵运算后的y标准差变成了3倍\n"
   ]
  },
  {
   "cell_type": "code",
   "execution_count": 14,
   "metadata": {},
   "outputs": [],
   "source": [
    "epoch = 20000\n",
    "batch_size = 32\n",
    "learning_rate = 0.1"
   ]
  },
  {
   "cell_type": "code",
   "execution_count": null,
   "metadata": {},
   "outputs": [
    {
     "name": "stdout",
     "output_type": "stream",
     "text": [
      "loss = 2.4102935791015625\n"
     ]
    }
   ],
   "source": [
    "for _ in range(epoch):\n",
    "    # build mini batch\n",
    "    ix = torch.randint(0,Xtr.shape[0],(batch_size,))\n",
    "    # forward pass\n",
    "    emb = C[Xtr[ix]]\n",
    "    hpreact = emb.view(emb.shape[0],input_neurons) @ w1 #+ b1 #因为这里后续会减去hpreact的均值，实际上b1在做完减法后被抵消了，并且batch normalization层中引入了一个bnbais进行横向的偏移\n",
    "    # batch normalization layer\n",
    "    # batch normalization的思想就是在激活函数之前，对数据进行归一化处理，使得数据的分布尽量集中在激活函数的梯度较大的范围内，而不是两端unhappy冷淡或者happy兴奋的区域。\n",
    "    # 从实施上来说就是将数据减去均值，再除以标准差，但是这样会强制使得数据变成以均值为中心的分布，这破坏了神经网络拟合的能力；\n",
    "    # 因此通过一个scaling factor来控制数据的分布范围，也就是“山峰”的宽度，再通过一个bias来控制'山峰'的左右移动；\n",
    "    # 这样可以让数据的分布更加集中，但是又可以通过可学习的scaling factor和bias来控制数据的分布形态。\n",
    "    bnmean_i = hpreact.mean(0,keepdim=True)\n",
    "    bnstd_i = hpreact.std(0,keepdim=True)\n",
    "    hpreact = bngain * (hpreact-bnmean_i)/bnstd_i + bnbias\n",
    "    # 论文中提出的思路，不在最后使用全部批次的数据集计算bnmean和bnstd，而是使用近似估计的方式来计算bnmean和bnstd。\n",
    "    with torch.no_grad():\n",
    "        bnmean_running = 0.999 * bnmean_running + 0.001 * bnmean_i\n",
    "        bnstd_running = 0.999 * bnstd_running + 0.001 * bnstd_i\n",
    "    # non-linearity\n",
    "    h = torch.tanh(hpreact)\n",
    "    logits = h @ w2 + b2\n",
    "    loss = F.cross_entropy(logits,Ytr[ix])\n",
    "    # print(f'loss = {loss}')\n",
    "    # break\n",
    "    \n",
    "    # backward pass\n",
    "    for p in parameters:\n",
    "        p.grad = None\n",
    "    loss.backward()\n",
    "    for p in parameters:\n",
    "        p.data += -learning_rate * p.grad\n",
    "print(f'loss = {loss}')\n"
   ]
  },
  {
   "cell_type": "code",
   "execution_count": null,
   "metadata": {},
   "outputs": [],
   "source": [
    "# 最后训练完成后需要计算整体数据集的bnmean和bnstd用来进行validation和采样（可以采用动态计算的方式取消这一步的计算）\n",
    "# with torch.no_grad():\n",
    "#     emb = C[Xtr]\n",
    "#     embcat = emb.view(emb.shape[0], -1)\n",
    "#     hpreact = embcat @ w1 +b1\n",
    "#     # 计算整个训练集上的batch norm的均值和标准差\n",
    "#     bnmean = hpreact.mean(dim=0,keepdim=True)\n",
    "#     bnstd = hpreact.std(dim=0,keepdim=True)"
   ]
  },
  {
   "cell_type": "code",
   "execution_count": null,
   "metadata": {},
   "outputs": [
    {
     "name": "stdout",
     "output_type": "stream",
     "text": [
      "h_show shape is torch.Size([6400])\n"
     ]
    },
    {
     "data": {
      "text/plain": [
       "(array([180., 121., 106., 106., 106.,  98.,  68.,  71.,  84.,  74.,  59.,\n",
       "         64.,  70.,  66.,  59.,  51.,  52.,  65.,  49.,  55.,  55.,  56.,\n",
       "         51.,  52.,  55.,  54.,  47.,  60.,  53.,  45.,  54.,  53.,  56.,\n",
       "         69.,  39.,  51.,  57.,  37.,  66.,  65.,  45.,  43.,  74.,  67.,\n",
       "         59.,  49.,  55.,  89.,  66.,  76.,  71.,  51.,  53.,  49.,  45.,\n",
       "         43.,  48.,  48.,  39.,  74.,  50.,  67.,  37.,  70.,  53.,  50.,\n",
       "         45.,  49.,  36.,  60.,  48.,  55.,  60.,  62.,  37.,  45.,  41.,\n",
       "         54.,  58.,  52.,  68.,  59.,  45.,  48.,  69.,  58.,  60.,  61.,\n",
       "         59.,  65.,  55.,  68.,  72.,  95.,  73.,  77., 114., 101., 137.,\n",
       "        164.]),\n",
       " array([-9.99913692e-01, -9.79918032e-01, -9.59922371e-01, -9.39926710e-01,\n",
       "        -9.19931049e-01, -8.99935389e-01, -8.79939728e-01, -8.59944067e-01,\n",
       "        -8.39948406e-01, -8.19952745e-01, -7.99957085e-01, -7.79961424e-01,\n",
       "        -7.59965763e-01, -7.39970102e-01, -7.19974442e-01, -6.99978781e-01,\n",
       "        -6.79983120e-01, -6.59987459e-01, -6.39991798e-01, -6.19996138e-01,\n",
       "        -6.00000477e-01, -5.80004816e-01, -5.60009155e-01, -5.40013494e-01,\n",
       "        -5.20017834e-01, -5.00022173e-01, -4.80026512e-01, -4.60030851e-01,\n",
       "        -4.40035191e-01, -4.20039530e-01, -4.00043869e-01, -3.80048208e-01,\n",
       "        -3.60052547e-01, -3.40056887e-01, -3.20061226e-01, -3.00065565e-01,\n",
       "        -2.80069904e-01, -2.60074244e-01, -2.40078583e-01, -2.20082922e-01,\n",
       "        -2.00087261e-01, -1.80091600e-01, -1.60095940e-01, -1.40100279e-01,\n",
       "        -1.20104618e-01, -1.00108957e-01, -8.01132965e-02, -6.01176357e-02,\n",
       "        -4.01219749e-02, -2.01263142e-02, -1.30653381e-04,  1.98650074e-02,\n",
       "         3.98606682e-02,  5.98563290e-02,  7.98519897e-02,  9.98476505e-02,\n",
       "         1.19843311e-01,  1.39838972e-01,  1.59834633e-01,  1.79830294e-01,\n",
       "         1.99825954e-01,  2.19821615e-01,  2.39817276e-01,  2.59812937e-01,\n",
       "         2.79808598e-01,  2.99804258e-01,  3.19799919e-01,  3.39795580e-01,\n",
       "         3.59791241e-01,  3.79786901e-01,  3.99782562e-01,  4.19778223e-01,\n",
       "         4.39773884e-01,  4.59769545e-01,  4.79765205e-01,  4.99760866e-01,\n",
       "         5.19756527e-01,  5.39752188e-01,  5.59747849e-01,  5.79743509e-01,\n",
       "         5.99739170e-01,  6.19734831e-01,  6.39730492e-01,  6.59726152e-01,\n",
       "         6.79721813e-01,  6.99717474e-01,  7.19713135e-01,  7.39708796e-01,\n",
       "         7.59704456e-01,  7.79700117e-01,  7.99695778e-01,  8.19691439e-01,\n",
       "         8.39687099e-01,  8.59682760e-01,  8.79678421e-01,  8.99674082e-01,\n",
       "         9.19669743e-01,  9.39665403e-01,  9.59661064e-01,  9.79656725e-01,\n",
       "         9.99652386e-01]),\n",
       " <BarContainer object of 100 artists>)"
      ]
     },
     "execution_count": 193,
     "metadata": {},
     "output_type": "execute_result"
    },
    {
     "data": {
      "image/png": "[encoded data removed]",
      "text/plain": [
       "<Figure size 640x480 with 1 Axes>"
      ]
     },
     "metadata": {},
     "output_type": "display_data"
    }
   ],
   "source": [
    "import matplotlib.pyplot as plt\n",
    "\n",
    "h_show = h.view(-1)\n",
    "print(f'h_show shape is {h_show.shape}')\n",
    "\n",
    "plt.hist(h_show.tolist(),100)"
   ]
  },
  {
   "cell_type": "code",
   "execution_count": null,
   "metadata": {},
   "outputs": [
    {
     "data": {
      "text/plain": [
       "<matplotlib.image.AxesImage at 0x1e565dcb320>"
      ]
     },
     "execution_count": 175,
     "metadata": {},
     "output_type": "execute_result"
    },
    {
     "data": {
      "image/png": "[encoded data removed]",
      "text/plain": [
       "<Figure size 2000x1000 with 1 Axes>"
      ]
     },
     "metadata": {},
     "output_type": "display_data"
    }
   ],
   "source": [
    "plt.figure(figsize=(20,10))\n",
    "plt.imshow(h.abs()>0.99,cmap='gray',interpolation='nearest')"
   ]
  },
  {
   "cell_type": "code",
   "execution_count": null,
   "metadata": {},
   "outputs": [
    {
     "data": {
      "text/plain": [
       "(array([  2.,   1.,   1.,   2.,   3.,   2.,   8.,   8.,   6.,  12.,  13.,\n",
       "         30.,  27.,  34.,  56.,  55., 103.,  97., 162., 171., 225., 250.,\n",
       "        288., 348., 404., 459., 622., 462., 429., 387., 335., 263., 228.,\n",
       "        206., 151., 128.,  97.,  80.,  73.,  51.,  38.,  33.,  17.,   9.,\n",
       "          6.,   4.,   2.,   5.,   4.,   3.]),\n",
       " array([-5.02533388, -4.83825311, -4.65117233, -4.46409156, -4.27701078,\n",
       "        -4.08993001, -3.90284924, -3.71576846, -3.52868769, -3.34160691,\n",
       "        -3.15452614, -2.96744536, -2.78036459, -2.59328382, -2.40620304,\n",
       "        -2.21912227, -2.03204149, -1.84496072, -1.65787994, -1.47079917,\n",
       "        -1.2837184 , -1.09663762, -0.90955685, -0.72247607, -0.5353953 ,\n",
       "        -0.34831452, -0.16123375,  0.02584702,  0.2129278 ,  0.40000857,\n",
       "         0.58708935,  0.77417012,  0.9612509 ,  1.14833167,  1.33541245,\n",
       "         1.52249322,  1.70957399,  1.89665477,  2.08373554,  2.27081632,\n",
       "         2.45789709,  2.64497787,  2.83205864,  3.01913941,  3.20622019,\n",
       "         3.39330096,  3.58038174,  3.76746251,  3.95454329,  4.14162406,\n",
       "         4.32870483]),\n",
       " <BarContainer object of 50 artists>)"
      ]
     },
     "execution_count": 189,
     "metadata": {},
     "output_type": "execute_result"
    },
    {
     "data": {
      "image/png": "[encoded data removed]",
      "text/plain": [
       "<Figure size 640x480 with 1 Axes>"
      ]
     },
     "metadata": {},
     "output_type": "display_data"
    }
   ],
   "source": [
    "plt.hist(hpreact.view(-1).tolist(),bins=50)"
   ]
  },
  {
   "cell_type": "code",
   "execution_count": null,
   "metadata": {},
   "outputs": [
    {
     "data": {
      "text/plain": [
       "[<matplotlib.lines.Line2D at 0x1e752f99f70>]"
      ]
     },
     "execution_count": 178,
     "metadata": {},
     "output_type": "execute_result"
    },
    {
     "data": {
      "image/png": "[encoded data removed]",
      "text/plain": [
       "<Figure size 640x480 with 1 Axes>"
      ]
     },
     "metadata": {},
     "output_type": "display_data"
    }
   ],
   "source": [
    "import matplotlib.pyplot as plt\n",
    "\n",
    "xi = torch.linspace(-5,5,100)\n",
    "yi = torch.tanh(xi)\n",
    "plt.plot(xi,yi)"
   ]
  },
  {
   "cell_type": "code",
   "execution_count": null,
   "metadata": {},
   "outputs": [
    {
     "name": "stdout",
     "output_type": "stream",
     "text": [
      "loss = 2.2315735816955566\n"
     ]
    }
   ],
   "source": [
    "# 评估所有数据集的loss\n",
    "emb = C[Xdev]\n",
    "embcat = emb.view(emb.shape[0],input_neurons)\n",
    "hpreact = embcat @ w1 +b1\n",
    "# hpreact = bngain * (hpreact-bnmean)/bnstd + bnbias\n",
    "hpreact = bngain * (hpreact - bnmean_running)/bnstd_running + bnbias\n",
    "h = torch.tanh(hpreact)\n",
    "logits = h @ w2 + b2\n",
    "loss = F.cross_entropy(logits,Ydev)\n",
    "print(f'loss = {loss}')"
   ]
  },
  {
   "cell_type": "code",
   "execution_count": null,
   "metadata": {},
   "outputs": [
    {
     "name": "stdout",
     "output_type": "stream",
     "text": [
      "fmmaldy\n",
      "hrlordngty\n",
      "frldchmm\n",
      "jashan\n",
      "khimfrutwessnnhanna\n",
      "jamrrreskanjhosteffrystsmfrycg\n",
      "mfrydn\n",
      "ntresja\n",
      "paurus\n",
      "khll\n"
     ]
    }
   ],
   "source": [
    "# generate sample\n",
    "for i in range(10):\n",
    "    str = ''\n",
    "    start_chs = '...'\n",
    "    while True:      \n",
    "        x_start = C[torch.tensor([stoi(i) for i in start_chs])].view(1,-1).float()\n",
    "        h1 = torch.tanh(x_start @ w1 +b1)\n",
    "        logits = h1 @ w2 + b2\n",
    "        prob = torch.exp(logits)/torch.sum(torch.exp(logits))\n",
    "        ix = torch.multinomial(prob,num_samples=1,replacement=True)\n",
    "        if ix == 0:\n",
    "            print(str)\n",
    "            break\n",
    "        else:\n",
    "            start_chs = start_chs[1:] + itos(ix)\n",
    "        str += itos(ix)"
   ]
  },
  {
   "cell_type": "markdown",
   "metadata": {},
   "source": [
    "## 总结：对象化代码，训练更深的神经网络"
   ]
  },
  {
   "cell_type": "code",
   "execution_count": 48,
   "metadata": {},
   "outputs": [],
   "source": [
    "class Linear:\n",
    "    def __init__(self,fan_in,fan_out,bias=True):\n",
    "        self.weight = torch.randn((fan_in,fan_out))/fan_in**0.5\n",
    "        if bias:\n",
    "            self.bias = torch.zeros(fan_out)\n",
    "        else:\n",
    "            self.bias = None\n",
    "    \n",
    "    def __call__(self,x):\n",
    "        self.out = x @ self.weight\n",
    "        if self.bias is not None:\n",
    "            self.out += self.bias\n",
    "        return self.out\n",
    "    \n",
    "    def parameters(self):\n",
    "        return [self.weight] + ([] if self.bias is False else [self.bias])\n",
    "    \n",
    "    \n",
    "class BatchNorm1d:\n",
    "    def __init__(self,dim,eps=1e-5,momentum=0.001):\n",
    "        self.eps = eps\n",
    "        self.momentum = momentum\n",
    "        self.gamma = torch.ones(dim)\n",
    "        self.beta = torch.zeros(dim)\n",
    "        self.training = True\n",
    "        self.running_mean = torch.zeros(dim)\n",
    "        self.running_var = torch.ones(dim)\n",
    "        \n",
    "    def __call__(self,x):\n",
    "        if self.training:\n",
    "            # batch mean and variance\n",
    "            xmean = x.mean(0,keepdim=True)\n",
    "            xvar = x.var(0,keepdim=True)    \n",
    "        else:\n",
    "            xmean = self.running_mean\n",
    "            xvar = self.running_var\n",
    "            \n",
    "        # 动态计算总计样本的均值和方差\n",
    "        if self.training:\n",
    "            with torch.no_grad():\n",
    "                self.running_mean = (1-self.momentum) * self.running_mean + self.momentum * xmean\n",
    "                self.running_var = (1-self.momentum) * self.running_var + self.momentum * xvar\n",
    "        \n",
    "        xhat = (x-xmean)/torch.sqrt(xvar+self.eps)\n",
    "        self.out = self.gamma * xhat + self.beta\n",
    "        \n",
    "        return self.out\n",
    "    \n",
    "    def parameters(self):\n",
    "        return [self.gamma,self.beta]\n",
    "    \n",
    "class Tanh():\n",
    "    def __init__(self):\n",
    "        pass\n",
    "    \n",
    "    def __call__(self,x):\n",
    "        self.out = torch.tanh(x)\n",
    "        return self.out\n",
    "    \n",
    "    def parameters(self):\n",
    "        return []"
   ]
  },
  {
   "cell_type": "code",
   "execution_count": 74,
   "metadata": {},
   "outputs": [],
   "source": [
    "n_embed = 10\n",
    "block_size = 3\n",
    "input_neurons = n_embed * block_size\n",
    "n_hidden = 100\n",
    "epochs = 2000\n",
    "batch_size = 32\n",
    "learning_rate = 0.1"
   ]
  },
  {
   "cell_type": "code",
   "execution_count": 87,
   "metadata": {},
   "outputs": [
    {
     "name": "stdout",
     "output_type": "stream",
     "text": [
      "Sum of parameters:47497\n"
     ]
    }
   ],
   "source": [
    "g = torch.Generator().manual_seed(2147483647)\n",
    "C = torch.randn((vocab_size,n_embed),generator=g)\n",
    "\n",
    "# layers = [Linear(input_neurons,n_hidden),BatchNorm1d(n_hidden),Tanh(),\n",
    "#           Linear(n_hidden,n_hidden),BatchNorm1d(n_hidden),Tanh(),\n",
    "#           Linear(n_hidden,n_hidden),BatchNorm1d(n_hidden),Tanh(),\n",
    "#           Linear(n_hidden,n_hidden),BatchNorm1d(n_hidden),Tanh(),\n",
    "#           Linear(n_hidden,n_hidden),BatchNorm1d(n_hidden),Tanh(),\n",
    "#           Linear(n_hidden,vocab_size)]\n",
    "\n",
    "layers = [Linear(input_neurons,n_hidden),BatchNorm1d(n_hidden),Tanh(),\n",
    "          Linear(n_hidden,n_hidden),BatchNorm1d(n_hidden),Tanh(),\n",
    "          Linear(n_hidden,n_hidden),BatchNorm1d(n_hidden),Tanh(),\n",
    "          Linear(n_hidden,n_hidden),BatchNorm1d(n_hidden),Tanh(),\n",
    "          Linear(n_hidden,n_hidden),BatchNorm1d(n_hidden),Tanh(),\n",
    "          Linear(n_hidden,vocab_size)]\n",
    "\n",
    "parameters = [C] + [p for layer in layers for p in layer.parameters()]\n",
    "\n",
    "print(f'Sum of parameters:{sum(p.nelement() for p in parameters)}')\n",
    "    \n",
    "with torch.no_grad():\n",
    "    # last layer: make less confident\n",
    "    layers[-1].weight *= 0.1\n",
    "    # all other layers: apply gain of tanh\n",
    "    for layer in layers[:-1]:\n",
    "        if isinstance(layer,Linear):\n",
    "            layer.weight *= 5/3\n",
    "            \n",
    "for p in parameters:\n",
    "     p.requires_grad = True"
   ]
  },
  {
   "cell_type": "code",
   "execution_count": 88,
   "metadata": {},
   "outputs": [
    {
     "name": "stdout",
     "output_type": "stream",
     "text": [
      "loss is 3.2897086143493652\n"
     ]
    }
   ],
   "source": [
    "for _ in range(epochs):\n",
    "    # build mini batch\n",
    "    ix = torch.randint(0,Xtr.shape[0],(batch_size,))\n",
    "    # forward pass\n",
    "    emb = C[Xtr[ix]]\n",
    "    x = emb.view(emb.shape[0],-1)\n",
    "    for layer in layers:\n",
    "        x = layer(x)\n",
    "    loss = F.cross_entropy(x,Ytr[ix])\n",
    "    \n",
    "    for layer in layers:\n",
    "        layer.out.retain_grad()\n",
    "    for p in parameters:\n",
    "        p.grad = None\n",
    "    loss.backward()\n",
    "    for p in parameters:\n",
    "       p.data += -learning_rate * p.grad\n",
    "    print(f'loss is {loss}')\n",
    "    break\n",
    "# print(f'loss is {loss}')"
   ]
  },
  {
   "cell_type": "code",
   "execution_count": null,
   "metadata": {},
   "outputs": [],
   "source": [
    "# visualize histograms\n"
   ]
  }
 ],
 "metadata": {
  "kernelspec": {
   "display_name": "Python 3",
   "language": "python",
   "name": "python3"
  },
  "language_info": {
   "codemirror_mode": {
    "name": "ipython",
    "version": 3
   },
   "file_extension": ".py",
   "mimetype": "text/x-python",
   "name": "python",
   "nbconvert_exporter": "python",
   "pygments_lexer": "ipython3",
   "version": "3.12.4"
  }
 },
 "nbformat": 4,
 "nbformat_minor": 2
}
