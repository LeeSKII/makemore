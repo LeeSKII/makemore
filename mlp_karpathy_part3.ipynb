{
 "cells": [
  {
   "cell_type": "code",
   "execution_count": 1,
   "metadata": {},
   "outputs": [],
   "source": [
    "import torch\n",
    "import torch.nn.functional as F"
   ]
  },
  {
   "cell_type": "code",
   "execution_count": 2,
   "metadata": {},
   "outputs": [],
   "source": [
    "with open('./names.txt','r',encoding='utf-8') as f:\n",
    "    words = f.read().splitlines()"
   ]
  },
  {
   "cell_type": "code",
   "execution_count": 3,
   "metadata": {},
   "outputs": [
    {
     "data": {
      "text/plain": [
       "32033"
      ]
     },
     "execution_count": 3,
     "metadata": {},
     "output_type": "execute_result"
    }
   ],
   "source": [
    "len(words)"
   ]
  },
  {
   "cell_type": "code",
   "execution_count": 73,
   "metadata": {},
   "outputs": [],
   "source": [
    "chars = []\n",
    "chars.append('.')\n",
    "chars = chars+sorted(list(set(''.join(words))))\n",
    "vocab_size = len(chars)"
   ]
  },
  {
   "cell_type": "code",
   "execution_count": 5,
   "metadata": {},
   "outputs": [],
   "source": [
    "# 定义两个函数用以转换字符到数字和数字到字符\n",
    "stoi = lambda x: chars.index(x)\n",
    "itos = lambda x: chars[x]"
   ]
  },
  {
   "cell_type": "code",
   "execution_count": 6,
   "metadata": {},
   "outputs": [],
   "source": [
    "block_size = 3\n",
    "X,Y = [],[]\n",
    "for w in words[:]:\n",
    "    # print(w)\n",
    "    context = [0] * block_size\n",
    "    for ch in w + '.':\n",
    "        ix = stoi(ch)\n",
    "        X.append(context)\n",
    "        Y.append(ix)\n",
    "        # print(''.join(itos(xi) for xi in context), '--->', itos(ix))\n",
    "        context = context[1:] + [ix]\n",
    "        \n",
    "X = torch.tensor(X)\n",
    "Y = torch.tensor(Y)"
   ]
  },
  {
   "cell_type": "code",
   "execution_count": 7,
   "metadata": {},
   "outputs": [
    {
     "data": {
      "text/plain": [
       "(torch.Size([228146, 3]), torch.int64, torch.Size([228146]), torch.int64)"
      ]
     },
     "execution_count": 7,
     "metadata": {},
     "output_type": "execute_result"
    }
   ],
   "source": [
    "X.shape, X.dtype, Y.shape, Y.dtype"
   ]
  },
  {
   "cell_type": "code",
   "execution_count": 12,
   "metadata": {},
   "outputs": [
    {
     "name": "stdout",
     "output_type": "stream",
     "text": [
      "torch.Size([182625, 3]) torch.Size([182625])\n",
      "torch.Size([22655, 3]) torch.Size([22655])\n",
      "torch.Size([22866, 3]) torch.Size([22866])\n"
     ]
    }
   ],
   "source": [
    "def build_dataset(words):  \n",
    "  X, Y = [], []\n",
    "  for w in words:\n",
    "\n",
    "    #print(w)\n",
    "    context = [0] * block_size\n",
    "    for ch in w + '.':\n",
    "      ix = stoi(ch)\n",
    "      X.append(context)\n",
    "      Y.append(ix)\n",
    "      #print(''.join(itos[i] for i in context), '--->', itos[ix])\n",
    "      context = context[1:] + [ix] # crop and append\n",
    "\n",
    "  X = torch.tensor(X)\n",
    "  Y = torch.tensor(Y)\n",
    "  print(X.shape, Y.shape)\n",
    "  return X, Y\n",
    "\n",
    "import random\n",
    "random.seed(42)\n",
    "random.shuffle(words)\n",
    "n1 = int(0.8*len(words))\n",
    "n2 = int(0.9*len(words))\n",
    "\n",
    "Xtr, Ytr = build_dataset(words[:n1])\n",
    "Xdev, Ydev = build_dataset(words[n1:n2])\n",
    "Xte, Yte = build_dataset(words[n2:])"
   ]
  },
  {
   "cell_type": "code",
   "execution_count": 131,
   "metadata": {},
   "outputs": [],
   "source": [
    "n_embed = 10\n",
    "input_neurons = n_embed * block_size\n",
    "n_hidden = 200\n",
    "\n",
    "g = torch.Generator().manual_seed(2147483647)\n",
    "C = torch.randn((vocab_size,n_embed),generator=g)\n",
    "# 将参数进行缩小，可以加速训练的收敛过程\n",
    "# 这里将激活前的参数层进行缩小，使得整个层的原始输出值在tanh计算的时候是落在tanh梯度较大的位置，这样使得初始学习的时候所有的神经元都可以直接参与计算\n",
    "# 注意现在这里使用的0.2是一个magic number，可以通过kaiming initialization来计算一个更符合数学规则的初始值（但是由于现代神经网络的很多优化方案（例如batch normalization），使得精确设置W的缩放规模并不那么重要了）\n",
    "# 缩放的目的是，w的随机初始化是符合标准正态分布的，x的取数也是符合标准正态分布的，但是如果w和x的矩阵乘法，那么得到的y的标准差会变大，即整个正态分布的“山峰”的体会变宽，这会导致有部分y值到了tanh的饱和区，使得梯度消失，因此需要一个缩小因子，使得y的标准差变小，这样可以使得反向传播时梯度不会消失\n",
    "# 现在使用kaiming initialization来计算一个更符合数学规则的权重初始值，使得x @ w之后的矩阵数值范围尽可能多的落在tanh函数的激活区间内，这样可以使得梯度不会消失\n",
    "w1 = torch.randn((input_neurons,n_hidden),generator=g) * (5/3)/(input_neurons**0.5) #0.2\n",
    "b1 = torch.randn(n_hidden,generator=g) * 0.01\n",
    "# 将最后一层的权重缩小，这样可以将第一次的logits，即原始输出值缩小，这样所有的值都相当于平均在0附近，取样的概率相等，初始值loss可控\n",
    "w2 = torch.randn((n_hidden,vocab_size),generator=g) * 0.01\n",
    "b2 = torch.randn(vocab_size,generator=g) * 0\n",
    "\n",
    "# 用于batch normalization的学习参数\n",
    "bngain = torch.ones((1,n_hidden))\n",
    "bnbias = torch.zeros((1,n_hidden))\n",
    "\n",
    "parameters = [C,w1,b1,w2,b2,bngain,bnbias]\n",
    "for p in parameters:\n",
    "    p.requires_grad = True"
   ]
  },
  {
   "cell_type": "code",
   "execution_count": 129,
   "metadata": {},
   "outputs": [
    {
     "data": {
      "text/plain": [
       "12297"
      ]
     },
     "execution_count": 129,
     "metadata": {},
     "output_type": "execute_result"
    }
   ],
   "source": [
    "sum(n.nelement() for n in parameters)"
   ]
  },
  {
   "cell_type": "code",
   "execution_count": 126,
   "metadata": {},
   "outputs": [
    {
     "name": "stdout",
     "output_type": "stream",
     "text": [
      "mean of x is -0.001110891462303698,std of x is 1.0065150260925293\n",
      "mean of y is 0.0022367089986801147,std of y is 1.0030237436294556\n"
     ]
    },
    {
     "data": {
      "text/plain": [
       "(array([2.19061228e-05, 2.19061228e-05, 4.38121541e-05, 2.62873474e-04,\n",
       "        8.76244913e-05, 7.66714299e-04, 7.88619598e-04, 1.55533310e-03,\n",
       "        2.56301637e-03, 4.88506029e-03, 7.31664502e-03, 1.16759513e-02,\n",
       "        1.83135187e-02, 2.96170471e-02, 4.33741232e-02, 6.43382491e-02,\n",
       "        9.26847573e-02, 1.31830978e-01, 1.82302659e-01, 2.39937638e-01,\n",
       "        3.03290112e-01, 3.69337038e-01, 4.13368295e-01, 4.35449682e-01,\n",
       "        4.22875574e-01, 3.78515699e-01, 3.23027518e-01, 2.58207335e-01,\n",
       "        1.94372926e-01, 1.43485030e-01, 1.00614770e-01, 7.27501959e-02,\n",
       "        4.70762334e-02, 3.13695679e-02, 2.11831986e-02, 1.29246125e-02,\n",
       "        8.58719118e-03, 4.73172253e-03, 3.08876009e-03, 1.97155105e-03,\n",
       "        1.07339890e-03, 5.25746948e-04, 4.38122456e-04, 2.62872925e-04,\n",
       "        1.09530614e-04, 8.76244913e-05, 4.38122456e-05, 2.19060771e-05,\n",
       "        0.00000000e+00, 4.38122456e-05]),\n",
       " array([-5.39053631, -5.16228962, -4.93404293, -4.70579576, -4.47754908,\n",
       "        -4.24930239, -4.0210557 , -3.79280877, -3.56456184, -3.33631516,\n",
       "        -3.10806823, -2.87982154, -2.65157461, -2.42332792, -2.195081  ,\n",
       "        -1.96683431, -1.7385875 , -1.51034069, -1.28209388, -1.05384707,\n",
       "        -0.82560027, -0.59735346, -0.36910665, -0.14085983,  0.08738697,\n",
       "         0.31563377,  0.54388058,  0.77212739,  1.0003742 ,  1.22862101,\n",
       "         1.45686781,  1.68511462,  1.91336143,  2.14160824,  2.36985493,\n",
       "         2.59810185,  2.82634854,  3.05459547,  3.28284216,  3.51108909,\n",
       "         3.73933578,  3.9675827 ,  4.19582939,  4.42407608,  4.65232325,\n",
       "         4.88056993,  5.10881662,  5.33706331,  5.56531048,  5.79355717,\n",
       "         6.02180386]),\n",
       " <BarContainer object of 50 artists>)"
      ]
     },
     "execution_count": 126,
     "metadata": {},
     "output_type": "execute_result"
    },
    {
     "data": {
      "image/png": "[encoded data removed]",
      "text/plain": [
       "<Figure size 2000x500 with 2 Axes>"
      ]
     },
     "metadata": {},
     "output_type": "display_data"
    }
   ],
   "source": [
    "x = torch.randn(1000,10)\n",
    "# w = torch.randn(10,200)\n",
    "# 为了解决矩阵乘法后std扩大的问题，需要除以一个缩放因子，就是fan in的平方根，这里的10就是fan in\n",
    "w = torch.randn(10,200) / 10**0.5\n",
    "y =  x @ w\n",
    "print(f'mean of x is {x.mean()},std of x is {x.std()}')\n",
    "print(f'mean of y is {y.mean()},std of y is {y.std()}')\n",
    "plt.figure(figsize=(20,5))\n",
    "plt.subplot(121)\n",
    "plt.hist(x.view(-1),bins=50,density=True)\n",
    "plt.subplot(122)\n",
    "plt.hist(y.view(-1),bins=50,density=True)\n",
    "# 可以看到经过矩阵运算后的y标准差变成了3倍\n"
   ]
  },
  {
   "cell_type": "code",
   "execution_count": 140,
   "metadata": {},
   "outputs": [],
   "source": [
    "epoch = 20000\n",
    "batch_size = 32\n",
    "learning_rate = 0.1"
   ]
  },
  {
   "cell_type": "code",
   "execution_count": 145,
   "metadata": {},
   "outputs": [
    {
     "name": "stdout",
     "output_type": "stream",
     "text": [
      "loss = 2.0330185890197754\n"
     ]
    }
   ],
   "source": [
    "for _ in range(epoch):\n",
    "    # build mini batch\n",
    "    ix = torch.randint(0,Xtr.shape[0],(batch_size,))\n",
    "    # forward pass\n",
    "    emb = C[Xtr[ix]]\n",
    "    hpreact = emb.view(emb.shape[0],input_neurons) @ w1 +b1\n",
    "    # batch normalization的思想就是在激活函数之前，对数据进行归一化处理，使得数据的分布尽量集中在激活函数的梯度较大的范围内，而不是两端unhappy冷淡或者happy兴奋的区域。\n",
    "    # 从实施上来说就是将数据减去均值，再除以标准差，但是这样会强制使得数据变成以均值为中心的分布，这破坏了神经网络拟合的能力；\n",
    "    # 因此通过一个scaling factor来控制数据的分布范围，也就是“山峰”的宽度，再通过一个bias来控制'山峰'的左右移动；\n",
    "    # 这样可以让数据的分布更加集中，但是又可以通过可学习的scaling factor和bias来控制数据的分布形态。\n",
    "    hpreact = bngain * (hpreact-hpreact.mean(0,keepdim=True))/hpreact.std(0,keepdim=True) + bnbias\n",
    "    h = torch.tanh(hpreact)\n",
    "    logits = h @ w2 + b2\n",
    "    loss = F.cross_entropy(logits,Ytr[ix])\n",
    "    # print(f'loss = {loss}')\n",
    "    # break\n",
    "    # backward pass\n",
    "    for p in parameters:\n",
    "        p.grad = None\n",
    "    loss.backward()\n",
    "    for p in parameters:\n",
    "        p.data += -learning_rate * p.grad\n",
    "print(f'loss = {loss}')\n"
   ]
  },
  {
   "cell_type": "code",
   "execution_count": 101,
   "metadata": {},
   "outputs": [
    {
     "name": "stdout",
     "output_type": "stream",
     "text": [
      "h_show shape is torch.Size([6400])\n"
     ]
    },
    {
     "data": {
      "text/plain": [
       "(array([  1.,   1.,   1.,   3.,   2.,   8.,  12.,  19.,  20.,  13.,  28.,\n",
       "         45.,  57.,  76., 122., 129., 166., 215., 234., 266., 289., 329.,\n",
       "        363., 371., 438., 426., 392., 331., 354., 316., 282., 231., 195.,\n",
       "        153., 136., 114.,  66.,  49.,  41.,  29.,  20.,  15.,   8.,  12.,\n",
       "          4.,   6.,   4.,   6.,   0.,   2.]),\n",
       " array([-0.19570257, -0.18768334, -0.17966411, -0.17164488, -0.16362566,\n",
       "        -0.15560643, -0.1475872 , -0.13956797, -0.13154875, -0.12352952,\n",
       "        -0.11551029, -0.10749106, -0.09947184, -0.09145261, -0.08343338,\n",
       "        -0.07541415, -0.06739492, -0.0593757 , -0.05135647, -0.04333724,\n",
       "        -0.03531801, -0.02729879, -0.01927956, -0.01126033, -0.0032411 ,\n",
       "         0.00477812,  0.01279735,  0.02081658,  0.02883581,  0.03685504,\n",
       "         0.04487426,  0.05289349,  0.06091272,  0.06893195,  0.07695117,\n",
       "         0.0849704 ,  0.09298963,  0.10100886,  0.10902808,  0.11704731,\n",
       "         0.12506654,  0.13308577,  0.141105  ,  0.14912422,  0.15714345,\n",
       "         0.16516268,  0.17318191,  0.18120113,  0.18922036,  0.19723959,\n",
       "         0.20525882]),\n",
       " <BarContainer object of 50 artists>)"
      ]
     },
     "execution_count": 101,
     "metadata": {},
     "output_type": "execute_result"
    },
    {
     "data": {
      "image/png": "[encoded data removed]",
      "text/plain": [
       "<Figure size 640x480 with 1 Axes>"
      ]
     },
     "metadata": {},
     "output_type": "display_data"
    }
   ],
   "source": [
    "import matplotlib.pyplot as plt\n",
    "\n",
    "h_show = h.view(-1)\n",
    "print(f'h_show shape is {h_show.shape}')\n",
    "\n",
    "plt.hist(h_show.tolist(),50)"
   ]
  },
  {
   "cell_type": "code",
   "execution_count": 109,
   "metadata": {},
   "outputs": [
    {
     "data": {
      "text/plain": [
       "<matplotlib.image.AxesImage at 0x1e55dd0ad50>"
      ]
     },
     "execution_count": 109,
     "metadata": {},
     "output_type": "execute_result"
    },
    {
     "data": {
      "image/png": "[encoded data removed]",
      "text/plain": [
       "<Figure size 2000x1000 with 1 Axes>"
      ]
     },
     "metadata": {},
     "output_type": "display_data"
    }
   ],
   "source": [
    "plt.figure(figsize=(20,10))\n",
    "plt.imshow(h.abs()>0.99,cmap='gray',interpolation='nearest')"
   ]
  },
  {
   "cell_type": "code",
   "execution_count": 106,
   "metadata": {},
   "outputs": [
    {
     "data": {
      "text/plain": [
       "(array([  1.,   1.,   1.,   7.,   2.,   5.,  18.,  12.,  13.,  22.,  29.,\n",
       "         55.,  85.,  77., 139., 169., 193., 252., 262., 334., 309., 371.,\n",
       "        374., 414., 435., 394., 394., 373., 311., 250., 245., 172., 156.,\n",
       "        138., 112.,  75.,  44.,  53.,  29.,  21.,  15.,  15.,  12.,   3.,\n",
       "          4.,   2.,   0.,   1.,   0.,   1.]),\n",
       " array([-0.2043062 , -0.19567678, -0.18704737, -0.17841795, -0.16978854,\n",
       "        -0.16115912, -0.15252971, -0.14390029, -0.13527088, -0.12664146,\n",
       "        -0.11801205, -0.10938263, -0.10075322, -0.0921238 , -0.08349439,\n",
       "        -0.07486497, -0.06623555, -0.05760614, -0.04897672, -0.04034731,\n",
       "        -0.03171789, -0.02308848, -0.01445906, -0.00582965,  0.00279977,\n",
       "         0.01142918,  0.0200586 ,  0.02868801,  0.03731743,  0.04594684,\n",
       "         0.05457626,  0.06320568,  0.07183509,  0.08046451,  0.08909392,\n",
       "         0.09772334,  0.10635275,  0.11498217,  0.12361158,  0.132241  ,\n",
       "         0.14087041,  0.14949983,  0.15812924,  0.16675866,  0.17538807,\n",
       "         0.18401749,  0.19264691,  0.20127632,  0.20990574,  0.21853515,\n",
       "         0.22716457]),\n",
       " <BarContainer object of 50 artists>)"
      ]
     },
     "execution_count": 106,
     "metadata": {},
     "output_type": "execute_result"
    },
    {
     "data": {
      "image/png": "[encoded data removed]",
      "text/plain": [
       "<Figure size 640x480 with 1 Axes>"
      ]
     },
     "metadata": {},
     "output_type": "display_data"
    }
   ],
   "source": [
    "plt.hist(hpreact.view(-1).tolist(),bins=50)"
   ]
  },
  {
   "cell_type": "code",
   "execution_count": 47,
   "metadata": {},
   "outputs": [
    {
     "data": {
      "text/plain": [
       "[<matplotlib.lines.Line2D at 0x1e553cdaff0>]"
      ]
     },
     "execution_count": 47,
     "metadata": {},
     "output_type": "execute_result"
    },
    {
     "data": {
      "image/png": "[encoded data removed]",
      "text/plain": [
       "<Figure size 640x480 with 1 Axes>"
      ]
     },
     "metadata": {},
     "output_type": "display_data"
    }
   ],
   "source": [
    "import matplotlib.pyplot as plt\n",
    "\n",
    "xi = torch.linspace(-5,5,100)\n",
    "yi = torch.tanh(xi)\n",
    "plt.plot(xi,yi)"
   ]
  },
  {
   "cell_type": "code",
   "execution_count": 129,
   "metadata": {},
   "outputs": [
    {
     "name": "stdout",
     "output_type": "stream",
     "text": [
      "loss = 2.530228614807129\n"
     ]
    }
   ],
   "source": [
    "# 评估所有数据集的loss\n",
    "emb = C[Xdev]\n",
    "h = torch.tanh(emb.view(emb.shape[0],input_neurons) @ w1 +b1)\n",
    "logits = h @ w2 + b2\n",
    "loss = F.cross_entropy(logits,Ydev)\n",
    "print(f'loss = {loss}')"
   ]
  },
  {
   "cell_type": "code",
   "execution_count": 214,
   "metadata": {},
   "outputs": [
    {
     "name": "stdout",
     "output_type": "stream",
     "text": [
      "make\n",
      "jahina\n",
      "theise\n",
      "xanlyxctori\n",
      "waewahana\n",
      "liena\n",
      "lisa\n",
      "jennon\n",
      "cylee\n",
      "emerine\n"
     ]
    }
   ],
   "source": [
    "# generate sample\n",
    "for i in range(10):\n",
    "    str = ''\n",
    "    start_chs = '...'\n",
    "    while True:      \n",
    "        x_start = C[torch.tensor([stoi(i) for i in start_chs])].view(1,-1).float()\n",
    "        h1 = torch.tanh(x_start @ w1 +b1)\n",
    "        h2 =  torch.tanh(h1 @ w2 + b2)\n",
    "        logits = h2 @ w3 + b3\n",
    "        prob = torch.exp(logits)/torch.sum(torch.exp(logits))\n",
    "        ix = torch.multinomial(prob,num_samples=1,replacement=True)\n",
    "        if ix == 0:\n",
    "            print(str)\n",
    "            break\n",
    "        else:\n",
    "            start_chs = start_chs[1:] + itos(ix)\n",
    "        str += itos(ix)"
   ]
  },
  {
   "cell_type": "code",
   "execution_count": null,
   "metadata": {},
   "outputs": [],
   "source": []
  }
 ],
 "metadata": {
  "kernelspec": {
   "display_name": "Python 3",
   "language": "python",
   "name": "python3"
  },
  "language_info": {
   "codemirror_mode": {
    "name": "ipython",
    "version": 3
   },
   "file_extension": ".py",
   "mimetype": "text/x-python",
   "name": "python",
   "nbconvert_exporter": "python",
   "pygments_lexer": "ipython3",
   "version": "3.12.4"
  }
 },
 "nbformat": 4,
 "nbformat_minor": 2
}
