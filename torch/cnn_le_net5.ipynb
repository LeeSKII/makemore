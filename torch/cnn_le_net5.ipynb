{
 "cells": [
  {
   "cell_type": "code",
   "execution_count": 11,
   "metadata": {},
   "outputs": [],
   "source": [
    "import numpy as np\n",
    "import torch\n",
    "import torch.nn as nn\n",
    "import torch.nn.functional as F\n",
    "import torch.optim as optim\n",
    "from torchvision import datasets, transforms\n",
    "from torch.utils.data import DataLoader"
   ]
  },
  {
   "cell_type": "code",
   "execution_count": 12,
   "metadata": {},
   "outputs": [],
   "source": [
    "# 获取数据集\n",
    "train_dataset = datasets.MNIST(root='./data',train=True,transform=transforms.ToTensor(),download=True)\n",
    "test_dataset = datasets.MNIST(root='./data',train=False,transform=transforms.ToTensor(),download=True)"
   ]
  },
  {
   "cell_type": "code",
   "execution_count": 13,
   "metadata": {},
   "outputs": [],
   "source": [
    "batch_size = 64"
   ]
  },
  {
   "cell_type": "code",
   "execution_count": 14,
   "metadata": {},
   "outputs": [],
   "source": [
    "# 设置数据加载器\n",
    "train_data_loader = DataLoader(train_dataset,batch_size=batch_size,shuffle=True)\n",
    "test_data_loader = DataLoader(test_dataset,batch_size=batch_size,shuffle=False)"
   ]
  },
  {
   "cell_type": "code",
   "execution_count": 15,
   "metadata": {},
   "outputs": [],
   "source": [
    "# 定义模型\n",
    "class Net(nn.Module):\n",
    "    def __init__(self):\n",
    "        super(Net,self).__init__()\n",
    "        self.layers = nn.Sequential(\n",
    "            nn.Conv2d(1,6,kernel_size=5,stride=1,padding=2),\n",
    "            nn.MaxPool2d(kernel_size=2,stride=2),\n",
    "            nn.ReLU(),\n",
    "            nn.Conv2d(6,16,kernel_size=5,stride=1,padding=2),\n",
    "            nn.MaxPool2d(kernel_size=2,stride=2),\n",
    "            nn.ReLU(),\n",
    "        )\n",
    "        self.fc_layers = nn.Sequential(\n",
    "            nn.Linear(16*7*7,120),\n",
    "            nn.ReLU(),\n",
    "            nn.Linear(120,84),\n",
    "            nn.ReLU(),\n",
    "            nn.Linear(84,10),\n",
    "        )\n",
    "    \n",
    "    def forward(self,x):\n",
    "        y = self.layers(x)\n",
    "        y = y.view(y.size()[0],-1)\n",
    "        y = self.fc_layers(y)\n",
    "        return y"
   ]
  },
  {
   "cell_type": "code",
   "execution_count": 16,
   "metadata": {},
   "outputs": [],
   "source": [
    "# 实例化模型\n",
    "model = Net()\n",
    "# 定义损失函数和优化器\n",
    "optimizer = optim.Adam(model.parameters(), lr=0.01)\n",
    "ce_loss = nn.CrossEntropyLoss()"
   ]
  },
  {
   "cell_type": "code",
   "execution_count": 17,
   "metadata": {},
   "outputs": [
    {
     "name": "stdout",
     "output_type": "stream",
     "text": [
      "layers.0.weight torch.Size([6, 1, 5, 5])\n",
      "layers.0.bias torch.Size([6])\n",
      "layers.3.weight torch.Size([16, 6, 5, 5])\n",
      "layers.3.bias torch.Size([16])\n",
      "fc_layers.0.weight torch.Size([120, 784])\n",
      "fc_layers.0.bias torch.Size([120])\n",
      "fc_layers.2.weight torch.Size([84, 120])\n",
      "fc_layers.2.bias torch.Size([84])\n",
      "fc_layers.4.weight torch.Size([10, 84])\n",
      "fc_layers.4.bias torch.Size([10])\n"
     ]
    }
   ],
   "source": [
    "# 查看模型参数\n",
    "for name,para in model.named_parameters():\n",
    "    print(name,para.shape)"
   ]
  },
  {
   "cell_type": "code",
   "execution_count": 18,
   "metadata": {},
   "outputs": [],
   "source": [
    "# 完成所有批次的轮询，就代表一次训练的epoch结束\n",
    "def train():\n",
    "    model.train()\n",
    "    for _,data in enumerate(train_data_loader):\n",
    "        data,label = data\n",
    "        label = F.one_hot(label,num_classes=10).float()\n",
    "        pred = model(data)     \n",
    "        # 注意如果最后使用cross entropy loss，则不需要softmax层，直接使用pred即可\n",
    "        # 但是如果使用其他loss，则需要先softmax，再计算loss\n",
    "        loss = ce_loss(pred,label)\n",
    "        optimizer.zero_grad()\n",
    "        loss.backward()\n",
    "        optimizer.step()\n",
    "        "
   ]
  },
  {
   "cell_type": "code",
   "execution_count": 19,
   "metadata": {},
   "outputs": [],
   "source": [
    "# 测试集数据准确率\n",
    "def test():\n",
    "    model.eval()\n",
    "    correct = 0\n",
    "    total = 0\n",
    "    for _,data in enumerate(test_data_loader):\n",
    "        data,label = data\n",
    "        y_pred = model(data)\n",
    "        y_pred_label = torch.argmax(y_pred,dim=1)\n",
    "        correct += torch.eq(y_pred_label,label).sum().item()\n",
    "        total += data.shape[0]\n",
    "    print('Test Accuracy: {:.2f}%'.format(100*correct/total))\n",
    "    \n",
    "    correct = 0\n",
    "    total = 0\n",
    "    for _,data in enumerate(train_data_loader):\n",
    "        data,label = data\n",
    "        y_pred = model(data)\n",
    "        y_pred_label = torch.argmax(y_pred,dim=1)\n",
    "        correct += torch.eq(y_pred_label,label).sum().item()\n",
    "        total += data.shape[0]\n",
    "    print('Train Accuracy: {:.2f}%'.format(100*correct/total))\n"
   ]
  },
  {
   "cell_type": "code",
   "execution_count": 20,
   "metadata": {},
   "outputs": [
    {
     "name": "stdout",
     "output_type": "stream",
     "text": [
      "Epoch: 1\n",
      "Test Accuracy: 97.75%\n",
      "Train Accuracy: 97.96%\n",
      "====================\n",
      "Epoch: 2\n",
      "Test Accuracy: 97.72%\n",
      "Train Accuracy: 97.94%\n",
      "====================\n",
      "Epoch: 3\n",
      "Test Accuracy: 96.75%\n",
      "Train Accuracy: 97.05%\n",
      "====================\n",
      "Epoch: 4\n",
      "Test Accuracy: 97.82%\n",
      "Train Accuracy: 98.59%\n",
      "====================\n",
      "Epoch: 5\n",
      "Test Accuracy: 97.96%\n",
      "Train Accuracy: 98.58%\n",
      "====================\n"
     ]
    }
   ],
   "source": [
    "for epoch in range(5):\n",
    "    print(\"Epoch:{:2d}\".format(epoch+1))\n",
    "    train()\n",
    "    correct_prob = test()\n",
    "    print(\"=\"*20)"
   ]
  },
  {
   "cell_type": "code",
   "execution_count": null,
   "metadata": {},
   "outputs": [],
   "source": []
  }
 ],
 "metadata": {
  "kernelspec": {
   "display_name": "Python 3",
   "language": "python",
   "name": "python3"
  },
  "language_info": {
   "codemirror_mode": {
    "name": "ipython",
    "version": 3
   },
   "file_extension": ".py",
   "mimetype": "text/x-python",
   "name": "python",
   "nbconvert_exporter": "python",
   "pygments_lexer": "ipython3",
   "version": "3.12.4"
  }
 },
 "nbformat": 4,
 "nbformat_minor": 2
}
