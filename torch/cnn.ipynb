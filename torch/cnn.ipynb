{
 "cells": [
  {
   "cell_type": "code",
   "execution_count": 102,
   "metadata": {},
   "outputs": [],
   "source": [
    "import numpy as np\n",
    "import torch\n",
    "import torch.nn as nn\n",
    "import torch.nn.functional as F\n",
    "import torch.optim as optim\n",
    "from torchvision import datasets, transforms\n",
    "from torch.utils.data import DataLoader"
   ]
  },
  {
   "cell_type": "code",
   "execution_count": 103,
   "metadata": {},
   "outputs": [],
   "source": [
    "# 获取数据集\n",
    "train_dataset = datasets.MNIST(root='./data',train=True,transform=transforms.ToTensor(),download=True)\n",
    "test_dataset = datasets.MNIST(root='./data',train=False,transform=transforms.ToTensor(),download=True)"
   ]
  },
  {
   "cell_type": "code",
   "execution_count": 104,
   "metadata": {},
   "outputs": [],
   "source": [
    "batch_size = 64"
   ]
  },
  {
   "cell_type": "code",
   "execution_count": 105,
   "metadata": {},
   "outputs": [],
   "source": [
    "# 设置数据加载器\n",
    "train_data_loader = DataLoader(train_dataset,batch_size=batch_size,shuffle=True)\n",
    "test_data_loader = DataLoader(test_dataset,batch_size=batch_size,shuffle=False)"
   ]
  },
  {
   "cell_type": "code",
   "execution_count": 106,
   "metadata": {},
   "outputs": [],
   "source": [
    "# 定义模型\n",
    "class Net(nn.Module):\n",
    "    def __init__(self):\n",
    "        super(Net,self).__init__()\n",
    "        self.layers = nn.Sequential(\n",
    "            nn.Conv2d(1,6,kernel_size=5,stride=1,padding=2),\n",
    "            nn.MaxPool2d(kernel_size=2,stride=2),\n",
    "            nn.ReLU(),\n",
    "            nn.Conv2d(6,12,kernel_size=5,stride=1,padding=2),\n",
    "            nn.MaxPool2d(kernel_size=2,stride=2),\n",
    "            nn.ReLU(),\n",
    "        )\n",
    "        self.fc = nn.Linear(12*7*7,10)\n",
    "    \n",
    "    def forward(self,x):\n",
    "        y = self.layers(x)\n",
    "        y = y.view(y.size()[0],-1)\n",
    "        y = self.fc(y)\n",
    "        return y"
   ]
  },
  {
   "cell_type": "code",
   "execution_count": 107,
   "metadata": {},
   "outputs": [],
   "source": [
    "# 实例化模型\n",
    "model = Net()\n",
    "# 定义损失函数和优化器\n",
    "optimizer = optim.Adam(model.parameters(), lr=0.01)\n",
    "ce_loss = nn.CrossEntropyLoss()"
   ]
  },
  {
   "cell_type": "code",
   "execution_count": 108,
   "metadata": {},
   "outputs": [
    {
     "name": "stdout",
     "output_type": "stream",
     "text": [
      "layers.0.weight torch.Size([6, 1, 5, 5])\n",
      "layers.0.bias torch.Size([6])\n",
      "layers.3.weight torch.Size([12, 6, 5, 5])\n",
      "layers.3.bias torch.Size([12])\n",
      "fc.weight torch.Size([10, 588])\n",
      "fc.bias torch.Size([10])\n"
     ]
    }
   ],
   "source": [
    "# 查看模型参数\n",
    "for name,para in model.named_parameters():\n",
    "    print(name,para.shape)"
   ]
  },
  {
   "cell_type": "code",
   "execution_count": 109,
   "metadata": {},
   "outputs": [],
   "source": [
    "# 完成所有批次的轮询，就代表一次训练的epoch结束\n",
    "def train():\n",
    "    model.train()\n",
    "    for _,data in enumerate(train_data_loader):\n",
    "        data,label = data\n",
    "        label = F.one_hot(label,num_classes=10).float()\n",
    "        pred = model(data)     \n",
    "        # 注意如果最后使用cross entropy loss，则不需要softmax层，直接使用pred即可\n",
    "        # 但是如果使用其他loss，则需要先softmax，再计算loss\n",
    "        loss = ce_loss(pred,label)\n",
    "        optimizer.zero_grad()\n",
    "        loss.backward()\n",
    "        optimizer.step()\n",
    "        "
   ]
  },
  {
   "cell_type": "code",
   "execution_count": 110,
   "metadata": {},
   "outputs": [],
   "source": [
    "# 测试集数据准确率\n",
    "def test():\n",
    "    model.eval()\n",
    "    correct = 0\n",
    "    total = 0\n",
    "    for _,data in enumerate(test_data_loader):\n",
    "        data,label = data\n",
    "        y_pred = model(data)\n",
    "        y_pred_label = torch.argmax(y_pred,dim=1)\n",
    "        correct += torch.eq(y_pred_label,label).sum().item()\n",
    "        total += data.shape[0]\n",
    "    print('Test Accuracy: {:.2f}%'.format(100*correct/total))\n",
    "    \n",
    "    correct = 0\n",
    "    total = 0\n",
    "    for _,data in enumerate(train_data_loader):\n",
    "        data,label = data\n",
    "        y_pred = model(data)\n",
    "        y_pred_label = torch.argmax(y_pred,dim=1)\n",
    "        correct += torch.eq(y_pred_label,label).sum().item()\n",
    "        total += data.shape[0]\n",
    "    print('Train Accuracy: {:.2f}%'.format(100*correct/total))\n"
   ]
  },
  {
   "cell_type": "code",
   "execution_count": 111,
   "metadata": {},
   "outputs": [
    {
     "name": "stdout",
     "output_type": "stream",
     "text": [
      "Epoch: 1\n",
      "Test Accuracy: 97.61%\n",
      "Train Accuracy: 97.61%\n",
      "====================\n",
      "Epoch: 2\n",
      "Test Accuracy: 98.15%\n",
      "Train Accuracy: 98.43%\n",
      "====================\n",
      "Epoch: 3\n",
      "Test Accuracy: 98.33%\n",
      "Train Accuracy: 98.78%\n",
      "====================\n",
      "Epoch: 4\n",
      "Test Accuracy: 98.03%\n",
      "Train Accuracy: 98.09%\n",
      "====================\n",
      "Epoch: 5\n",
      "Test Accuracy: 98.04%\n",
      "Train Accuracy: 98.49%\n",
      "====================\n"
     ]
    }
   ],
   "source": [
    "for epoch in range(5):\n",
    "    print(\"Epoch:{:2d}\".format(epoch+1))\n",
    "    train()\n",
    "    correct_prob = test()\n",
    "    print(\"=\"*20)"
   ]
  },
  {
   "cell_type": "code",
   "execution_count": null,
   "metadata": {},
   "outputs": [],
   "source": []
  }
 ],
 "metadata": {
  "kernelspec": {
   "display_name": "Python 3",
   "language": "python",
   "name": "python3"
  },
  "language_info": {
   "codemirror_mode": {
    "name": "ipython",
    "version": 3
   },
   "file_extension": ".py",
   "mimetype": "text/x-python",
   "name": "python",
   "nbconvert_exporter": "python",
   "pygments_lexer": "ipython3",
   "version": "3.12.4"
  }
 },
 "nbformat": 4,
 "nbformat_minor": 2
}
