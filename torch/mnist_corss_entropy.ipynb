{
 "cells": [
  {
   "cell_type": "code",
   "execution_count": 4,
   "metadata": {},
   "outputs": [],
   "source": [
    "import numpy as np\n",
    "import torch\n",
    "import torch.nn as nn\n",
    "import torch.nn.functional as F\n",
    "import torch.optim as optim\n",
    "from torchvision import datasets, transforms\n",
    "from torch.utils.data import DataLoader"
   ]
  },
  {
   "cell_type": "code",
   "execution_count": 5,
   "metadata": {},
   "outputs": [],
   "source": [
    "# 获取数据集\n",
    "train_dataset = datasets.MNIST(root='./data',train=True,transform=transforms.ToTensor(),download=True)\n",
    "test_dataset = datasets.MNIST(root='./data',train=False,transform=transforms.ToTensor(),download=True)"
   ]
  },
  {
   "cell_type": "code",
   "execution_count": 6,
   "metadata": {},
   "outputs": [],
   "source": [
    "batch_size = 64"
   ]
  },
  {
   "cell_type": "code",
   "execution_count": 7,
   "metadata": {},
   "outputs": [],
   "source": [
    "# 设置数据加载器\n",
    "train_data_loader = DataLoader(train_dataset,batch_size=batch_size,shuffle=True)\n",
    "test_data_loader = DataLoader(test_dataset,batch_size=batch_size,shuffle=False)"
   ]
  },
  {
   "cell_type": "code",
   "execution_count": 8,
   "metadata": {},
   "outputs": [],
   "source": [
    "# 定义模型\n",
    "class Net(nn.Module):\n",
    "    def __init__(self):\n",
    "        super(Net,self).__init__()\n",
    "        self.fc1 = nn.Linear(784,10)\n",
    "        self.softmax = nn.Softmax(dim=1)\n",
    "    \n",
    "    def forward(self,x):\n",
    "        y = self.fc1(x)\n",
    "        prob = self.softmax(y)\n",
    "        return prob"
   ]
  },
  {
   "cell_type": "code",
   "execution_count": 9,
   "metadata": {},
   "outputs": [],
   "source": [
    "# 实例化模型\n",
    "model = Net()\n",
    "# 定义损失函数和优化器\n",
    "optimizer = optim.SGD(model.parameters(), lr=0.5)\n",
    "ce_loss = nn.CrossEntropyLoss()"
   ]
  },
  {
   "cell_type": "code",
   "execution_count": 10,
   "metadata": {},
   "outputs": [
    {
     "name": "stdout",
     "output_type": "stream",
     "text": [
      "fc1.weight torch.Size([10, 784])\n",
      "fc1.bias torch.Size([10])\n"
     ]
    }
   ],
   "source": [
    "# 查看模型参数\n",
    "for name,para in model.named_parameters():\n",
    "    print(name,para.shape)"
   ]
  },
  {
   "cell_type": "code",
   "execution_count": 11,
   "metadata": {},
   "outputs": [],
   "source": [
    "# 完成所有批次的轮询，就代表一次训练的epoch结束\n",
    "def train():\n",
    "    for _,data in enumerate(train_data_loader):\n",
    "        data,label = data\n",
    "        train = data.view(data.shape[0],-1)\n",
    "        label = F.one_hot(label,num_classes=10).float()\n",
    "        pred = model(train)      \n",
    "        loss = ce_loss(label,pred)\n",
    "        loss.backward()\n",
    "        optimizer.step()\n",
    "        optimizer.zero_grad()"
   ]
  },
  {
   "cell_type": "code",
   "execution_count": 12,
   "metadata": {},
   "outputs": [],
   "source": [
    "# 测试集数据准确率\n",
    "def test():\n",
    "    correct = 0\n",
    "    total = 0\n",
    "    for _,data in enumerate(test_data_loader):\n",
    "        data,label = data\n",
    "        data = data.view(data.shape[0],-1)\n",
    "        y_pred = model(data)\n",
    "        y_pred_label = torch.argmax(y_pred,dim=1)\n",
    "        correct += torch.eq(y_pred_label,label).sum().item()\n",
    "        total += data.shape[0]\n",
    "    return correct/total"
   ]
  },
  {
   "cell_type": "code",
   "execution_count": 14,
   "metadata": {},
   "outputs": [
    {
     "name": "stdout",
     "output_type": "stream",
     "text": [
      "Epoch: 1, Correct Prob: 0.9217\n",
      "Epoch: 2, Correct Prob: 0.9220\n",
      "Epoch: 3, Correct Prob: 0.9227\n",
      "Epoch: 4, Correct Prob: 0.9244\n",
      "Epoch: 5, Correct Prob: 0.9240\n",
      "Epoch: 6, Correct Prob: 0.9251\n",
      "Epoch: 7, Correct Prob: 0.9250\n",
      "Epoch: 8, Correct Prob: 0.9255\n",
      "Epoch: 9, Correct Prob: 0.9260\n",
      "Epoch: 10, Correct Prob: 0.9262\n",
      "Epoch: 11, Correct Prob: 0.9252\n",
      "Epoch: 12, Correct Prob: 0.9269\n",
      "Epoch: 13, Correct Prob: 0.9251\n",
      "Epoch: 14, Correct Prob: 0.9259\n",
      "Epoch: 15, Correct Prob: 0.9268\n",
      "Epoch: 16, Correct Prob: 0.9259\n",
      "Epoch: 17, Correct Prob: 0.9286\n",
      "Epoch: 18, Correct Prob: 0.9285\n",
      "Epoch: 19, Correct Prob: 0.9275\n",
      "Epoch: 20, Correct Prob: 0.9280\n"
     ]
    }
   ],
   "source": [
    "for epoch in range(20):\n",
    "    train()\n",
    "    correct_prob = test()\n",
    "    print('Epoch: {}, Correct Prob: {:.4f}'.format(epoch+1, correct_prob))"
   ]
  },
  {
   "cell_type": "code",
   "execution_count": null,
   "metadata": {},
   "outputs": [],
   "source": []
  }
 ],
 "metadata": {
  "kernelspec": {
   "display_name": "Python 3",
   "language": "python",
   "name": "python3"
  },
  "language_info": {
   "codemirror_mode": {
    "name": "ipython",
    "version": 3
   },
   "file_extension": ".py",
   "mimetype": "text/x-python",
   "name": "python",
   "nbconvert_exporter": "python",
   "pygments_lexer": "ipython3",
   "version": "3.12.4"
  }
 },
 "nbformat": 4,
 "nbformat_minor": 2
}
