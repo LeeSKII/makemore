{
 "cells": [
  {
   "cell_type": "code",
   "execution_count": 14,
   "metadata": {},
   "outputs": [],
   "source": [
    "import numpy as np\n",
    "import torch\n",
    "import torch.nn as nn\n",
    "import torch.nn.functional as F\n",
    "import torch.optim as optim\n",
    "from torchvision import datasets, transforms\n",
    "from torch.utils.data import DataLoader"
   ]
  },
  {
   "cell_type": "code",
   "execution_count": 15,
   "metadata": {},
   "outputs": [],
   "source": [
    "# 获取数据集\n",
    "train_dataset = datasets.MNIST(root='./data',train=True,transform=transforms.ToTensor(),download=True)\n",
    "test_dataset = datasets.MNIST(root='./data',train=False,transform=transforms.ToTensor(),download=True)"
   ]
  },
  {
   "cell_type": "code",
   "execution_count": 16,
   "metadata": {},
   "outputs": [],
   "source": [
    "batch_size = 64"
   ]
  },
  {
   "cell_type": "code",
   "execution_count": 17,
   "metadata": {},
   "outputs": [],
   "source": [
    "# 设置数据加载器\n",
    "train_data_loader = DataLoader(train_dataset,batch_size=batch_size,shuffle=True)\n",
    "test_data_loader = DataLoader(test_dataset,batch_size=batch_size,shuffle=False)"
   ]
  },
  {
   "cell_type": "code",
   "execution_count": 18,
   "metadata": {},
   "outputs": [],
   "source": [
    "# 定义模型\n",
    "class Net(nn.Module):\n",
    "    def __init__(self):\n",
    "        super(Net,self).__init__()\n",
    "        self.layers = nn.Sequential(\n",
    "            nn.Linear(784,512),\n",
    "            nn.Dropout(0.5),\n",
    "            nn.ReLU(),\n",
    "            nn.Linear(512,256),\n",
    "            nn.Dropout(0.5),\n",
    "            nn.ReLU(),\n",
    "            nn.Linear(256,10),\n",
    "        )\n",
    "        self.softmax = nn.Softmax(dim=1)\n",
    "    \n",
    "    def forward(self,x):\n",
    "        y = self.layers(x)\n",
    "        prob = self.softmax(y)\n",
    "        return prob"
   ]
  },
  {
   "cell_type": "code",
   "execution_count": 19,
   "metadata": {},
   "outputs": [],
   "source": [
    "# 实例化模型\n",
    "model = Net()\n",
    "# 定义损失函数和优化器\n",
    "optimizer = optim.SGD(model.parameters(), lr=0.5)\n",
    "ce_loss = nn.CrossEntropyLoss()"
   ]
  },
  {
   "cell_type": "code",
   "execution_count": 20,
   "metadata": {},
   "outputs": [
    {
     "name": "stdout",
     "output_type": "stream",
     "text": [
      "layers.0.weight torch.Size([512, 784])\n",
      "layers.0.bias torch.Size([512])\n",
      "layers.3.weight torch.Size([256, 512])\n",
      "layers.3.bias torch.Size([256])\n",
      "layers.6.weight torch.Size([10, 256])\n",
      "layers.6.bias torch.Size([10])\n"
     ]
    }
   ],
   "source": [
    "# 查看模型参数\n",
    "for name,para in model.named_parameters():\n",
    "    print(name,para.shape)"
   ]
  },
  {
   "cell_type": "code",
   "execution_count": 21,
   "metadata": {},
   "outputs": [],
   "source": [
    "# 完成所有批次的轮询，就代表一次训练的epoch结束\n",
    "def train():\n",
    "    model.train()\n",
    "    for _,data in enumerate(train_data_loader):\n",
    "        data,label = data\n",
    "        train = data.view(data.shape[0],-1)\n",
    "        label = F.one_hot(label,num_classes=10).float()\n",
    "        pred = model(train)      \n",
    "        loss = ce_loss(label,pred)\n",
    "        loss.backward()\n",
    "        optimizer.step()\n",
    "        optimizer.zero_grad()"
   ]
  },
  {
   "cell_type": "code",
   "execution_count": 22,
   "metadata": {},
   "outputs": [],
   "source": [
    "# 测试集数据准确率\n",
    "def test():\n",
    "    model.eval()\n",
    "    correct = 0\n",
    "    total = 0\n",
    "    for _,data in enumerate(test_data_loader):\n",
    "        data,label = data\n",
    "        data = data.view(data.shape[0],-1)\n",
    "        y_pred = model(data)\n",
    "        y_pred_label = torch.argmax(y_pred,dim=1)\n",
    "        correct += torch.eq(y_pred_label,label).sum().item()\n",
    "        total += data.shape[0]\n",
    "    print('Test Accuracy: {:.2f}%'.format(100*correct/total))\n",
    "    \n",
    "    correct = 0\n",
    "    total = 0\n",
    "    for _,data in enumerate(train_data_loader):\n",
    "        data,label = data\n",
    "        data = data.view(data.shape[0],-1)\n",
    "        y_pred = model(data)\n",
    "        y_pred_label = torch.argmax(y_pred,dim=1)\n",
    "        correct += torch.eq(y_pred_label,label).sum().item()\n",
    "        total += data.shape[0]\n",
    "    print('Train Accuracy: {:.2f}%'.format(100*correct/total))\n"
   ]
  },
  {
   "cell_type": "code",
   "execution_count": 26,
   "metadata": {},
   "outputs": [
    {
     "name": "stdout",
     "output_type": "stream",
     "text": [
      "Epoch: 1\n",
      "Test Accuracy: 97.03%\n",
      "Train Accuracy: 97.37%\n",
      "====================\n",
      "Epoch: 2\n",
      "Test Accuracy: 97.30%\n",
      "Train Accuracy: 97.72%\n",
      "====================\n",
      "Epoch: 3\n",
      "Test Accuracy: 97.15%\n",
      "Train Accuracy: 97.78%\n",
      "====================\n",
      "Epoch: 4\n",
      "Test Accuracy: 97.37%\n",
      "Train Accuracy: 97.86%\n",
      "====================\n",
      "Epoch: 5\n",
      "Test Accuracy: 97.41%\n",
      "Train Accuracy: 97.92%\n",
      "====================\n",
      "Epoch: 6\n",
      "Test Accuracy: 97.36%\n",
      "Train Accuracy: 98.07%\n",
      "====================\n",
      "Epoch: 7\n",
      "Test Accuracy: 97.62%\n",
      "Train Accuracy: 98.22%\n",
      "====================\n",
      "Epoch: 8\n",
      "Test Accuracy: 97.56%\n",
      "Train Accuracy: 98.22%\n",
      "====================\n",
      "Epoch: 9\n",
      "Test Accuracy: 97.83%\n",
      "Train Accuracy: 98.38%\n",
      "====================\n",
      "Epoch:10\n",
      "Test Accuracy: 97.66%\n",
      "Train Accuracy: 98.28%\n",
      "====================\n",
      "Epoch:11\n",
      "Test Accuracy: 97.69%\n",
      "Train Accuracy: 98.36%\n",
      "====================\n",
      "Epoch:12\n",
      "Test Accuracy: 97.81%\n",
      "Train Accuracy: 98.33%\n",
      "====================\n",
      "Epoch:13\n",
      "Test Accuracy: 97.62%\n",
      "Train Accuracy: 98.33%\n",
      "====================\n",
      "Epoch:14\n",
      "Test Accuracy: 97.78%\n",
      "Train Accuracy: 98.49%\n",
      "====================\n",
      "Epoch:15\n",
      "Test Accuracy: 97.72%\n",
      "Train Accuracy: 98.44%\n",
      "====================\n",
      "Epoch:16\n",
      "Test Accuracy: 97.85%\n",
      "Train Accuracy: 98.50%\n",
      "====================\n",
      "Epoch:17\n",
      "Test Accuracy: 97.52%\n",
      "Train Accuracy: 98.34%\n",
      "====================\n",
      "Epoch:18\n",
      "Test Accuracy: 97.66%\n",
      "Train Accuracy: 98.46%\n",
      "====================\n",
      "Epoch:19\n",
      "Test Accuracy: 97.85%\n",
      "Train Accuracy: 98.59%\n",
      "====================\n",
      "Epoch:20\n",
      "Test Accuracy: 97.87%\n",
      "Train Accuracy: 98.61%\n",
      "====================\n"
     ]
    }
   ],
   "source": [
    "for epoch in range(20):\n",
    "    print(\"Epoch:{:2d}\".format(epoch+1))\n",
    "    train()\n",
    "    correct_prob = test()\n",
    "    print(\"=\"*20)"
   ]
  },
  {
   "cell_type": "code",
   "execution_count": null,
   "metadata": {},
   "outputs": [],
   "source": []
  }
 ],
 "metadata": {
  "kernelspec": {
   "display_name": "Python 3",
   "language": "python",
   "name": "python3"
  },
  "language_info": {
   "codemirror_mode": {
    "name": "ipython",
    "version": 3
   },
   "file_extension": ".py",
   "mimetype": "text/x-python",
   "name": "python",
   "nbconvert_exporter": "python",
   "pygments_lexer": "ipython3",
   "version": "3.12.4"
  }
 },
 "nbformat": 4,
 "nbformat_minor": 2
}
